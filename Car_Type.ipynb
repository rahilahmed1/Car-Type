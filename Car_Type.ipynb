{
 "cells": [
  {
   "cell_type": "code",
   "execution_count": 1,
   "metadata": {
    "id": "BIxsx_dczeg8"
   },
   "outputs": [
    {
     "name": "stdout",
     "output_type": "stream",
     "text": [
      "3.2\n",
      "12.564\n"
     ]
    }
   ],
   "source": [
    "import numpy as np\n",
    "import pandas as pd\n",
    "\n",
    "import math\n",
    "from random import shuffle\n",
    "import random\n",
    "random.seed(0)\n",
    "\n",
    "# plotting\n",
    "import matplotlib.pyplot as plt\n",
    "import seaborn as sns\n",
    "\n",
    "from sklearn.metrics import accuracy_score\n",
    "from sklearn.linear_model import LinearRegression\n",
    "\n",
    "givenDec = lambda gdVal: float('%.1f' % gdVal) # 1 digit\n",
    "givenDec3 = lambda gdVal: float('%.3f' % gdVal) # 3 digit\n",
    "\n",
    "print(givenDec(3.23454354))\n",
    "print(givenDec3(12.5643563456))"
   ]
  },
  {
   "cell_type": "markdown",
   "metadata": {
    "id": "Yp9Qfarmzeg9"
   },
   "source": [
    "### Classification"
   ]
  },
  {
   "cell_type": "code",
   "execution_count": 2,
   "metadata": {
    "id": "k8SeausDzeg-"
   },
   "outputs": [],
   "source": [
    "# function to generate data points for family car example\n",
    "def generateCarTypeData(gnPoints):\n",
    "    \n",
    "    engine_power_all = []\n",
    "    price_all = []\n",
    "    famCar_class = []\n",
    "\n",
    "    for i in range(gnPoints):\n",
    "        rnd_val = np.random.random()\n",
    "        rnd_val_e = np.random.random()\n",
    "        rnd_val_p = np.random.random()\n",
    "        if(rnd_val < 0.5):\n",
    "            famCar_class.append(0)\n",
    "            tmp_eng_power = np.random.randint(low=50, high=240)\n",
    "            tmp_price = np.random.randint(low=10, high=100)\n",
    "\n",
    "            while (120<tmp_eng_power<180 and 25<tmp_price<50):\n",
    "                tmp_eng_power = np.random.randint(low=50, high=240)\n",
    "                tmp_price = np.random.randint(low=10, high=100)\n",
    "\n",
    "            engine_power_all.append(tmp_eng_power)\n",
    "            price_all.append(tmp_price)\n",
    "        else:\n",
    "            famCar_class.append(1)\n",
    "            engine_power_all.append(np.random.randint(low=120, high=180))\n",
    "            price_all.append(np.random.randint(low=25, high=50))\n",
    "\n",
    "    tmp_df = pd.DataFrame({\n",
    "        \"e\":engine_power_all,\n",
    "        \"p\":price_all,\n",
    "        \"c\":famCar_class\n",
    "    })\n",
    "    \n",
    "    return tmp_df\n"
   ]
  },
  {
   "cell_type": "code",
   "execution_count": 3,
   "metadata": {
    "id": "Vzexlg4Yzeg-"
   },
   "outputs": [
    {
     "data": {
      "text/html": [
       "<div>\n",
       "<style scoped>\n",
       "    .dataframe tbody tr th:only-of-type {\n",
       "        vertical-align: middle;\n",
       "    }\n",
       "\n",
       "    .dataframe tbody tr th {\n",
       "        vertical-align: top;\n",
       "    }\n",
       "\n",
       "    .dataframe thead th {\n",
       "        text-align: right;\n",
       "    }\n",
       "</style>\n",
       "<table border=\"1\" class=\"dataframe\">\n",
       "  <thead>\n",
       "    <tr style=\"text-align: right;\">\n",
       "      <th></th>\n",
       "      <th>e</th>\n",
       "      <th>p</th>\n",
       "      <th>c</th>\n",
       "    </tr>\n",
       "  </thead>\n",
       "  <tbody>\n",
       "    <tr>\n",
       "      <th>0</th>\n",
       "      <td>154</td>\n",
       "      <td>11</td>\n",
       "      <td>0</td>\n",
       "    </tr>\n",
       "    <tr>\n",
       "      <th>1</th>\n",
       "      <td>139</td>\n",
       "      <td>42</td>\n",
       "      <td>1</td>\n",
       "    </tr>\n",
       "    <tr>\n",
       "      <th>2</th>\n",
       "      <td>178</td>\n",
       "      <td>47</td>\n",
       "      <td>1</td>\n",
       "    </tr>\n",
       "    <tr>\n",
       "      <th>3</th>\n",
       "      <td>123</td>\n",
       "      <td>22</td>\n",
       "      <td>0</td>\n",
       "    </tr>\n",
       "    <tr>\n",
       "      <th>4</th>\n",
       "      <td>72</td>\n",
       "      <td>95</td>\n",
       "      <td>0</td>\n",
       "    </tr>\n",
       "    <tr>\n",
       "      <th>5</th>\n",
       "      <td>153</td>\n",
       "      <td>31</td>\n",
       "      <td>1</td>\n",
       "    </tr>\n",
       "    <tr>\n",
       "      <th>6</th>\n",
       "      <td>143</td>\n",
       "      <td>30</td>\n",
       "      <td>1</td>\n",
       "    </tr>\n",
       "    <tr>\n",
       "      <th>7</th>\n",
       "      <td>193</td>\n",
       "      <td>97</td>\n",
       "      <td>0</td>\n",
       "    </tr>\n",
       "    <tr>\n",
       "      <th>8</th>\n",
       "      <td>158</td>\n",
       "      <td>48</td>\n",
       "      <td>1</td>\n",
       "    </tr>\n",
       "    <tr>\n",
       "      <th>9</th>\n",
       "      <td>110</td>\n",
       "      <td>51</td>\n",
       "      <td>0</td>\n",
       "    </tr>\n",
       "    <tr>\n",
       "      <th>10</th>\n",
       "      <td>136</td>\n",
       "      <td>32</td>\n",
       "      <td>1</td>\n",
       "    </tr>\n",
       "    <tr>\n",
       "      <th>11</th>\n",
       "      <td>82</td>\n",
       "      <td>64</td>\n",
       "      <td>0</td>\n",
       "    </tr>\n",
       "    <tr>\n",
       "      <th>12</th>\n",
       "      <td>129</td>\n",
       "      <td>39</td>\n",
       "      <td>1</td>\n",
       "    </tr>\n",
       "    <tr>\n",
       "      <th>13</th>\n",
       "      <td>167</td>\n",
       "      <td>34</td>\n",
       "      <td>1</td>\n",
       "    </tr>\n",
       "    <tr>\n",
       "      <th>14</th>\n",
       "      <td>61</td>\n",
       "      <td>28</td>\n",
       "      <td>0</td>\n",
       "    </tr>\n",
       "    <tr>\n",
       "      <th>15</th>\n",
       "      <td>170</td>\n",
       "      <td>47</td>\n",
       "      <td>1</td>\n",
       "    </tr>\n",
       "    <tr>\n",
       "      <th>16</th>\n",
       "      <td>148</td>\n",
       "      <td>35</td>\n",
       "      <td>1</td>\n",
       "    </tr>\n",
       "    <tr>\n",
       "      <th>17</th>\n",
       "      <td>178</td>\n",
       "      <td>35</td>\n",
       "      <td>1</td>\n",
       "    </tr>\n",
       "    <tr>\n",
       "      <th>18</th>\n",
       "      <td>141</td>\n",
       "      <td>25</td>\n",
       "      <td>1</td>\n",
       "    </tr>\n",
       "    <tr>\n",
       "      <th>19</th>\n",
       "      <td>176</td>\n",
       "      <td>19</td>\n",
       "      <td>0</td>\n",
       "    </tr>\n",
       "    <tr>\n",
       "      <th>20</th>\n",
       "      <td>130</td>\n",
       "      <td>28</td>\n",
       "      <td>1</td>\n",
       "    </tr>\n",
       "    <tr>\n",
       "      <th>21</th>\n",
       "      <td>137</td>\n",
       "      <td>31</td>\n",
       "      <td>1</td>\n",
       "    </tr>\n",
       "    <tr>\n",
       "      <th>22</th>\n",
       "      <td>125</td>\n",
       "      <td>36</td>\n",
       "      <td>1</td>\n",
       "    </tr>\n",
       "    <tr>\n",
       "      <th>23</th>\n",
       "      <td>137</td>\n",
       "      <td>48</td>\n",
       "      <td>1</td>\n",
       "    </tr>\n",
       "    <tr>\n",
       "      <th>24</th>\n",
       "      <td>167</td>\n",
       "      <td>82</td>\n",
       "      <td>0</td>\n",
       "    </tr>\n",
       "    <tr>\n",
       "      <th>25</th>\n",
       "      <td>135</td>\n",
       "      <td>33</td>\n",
       "      <td>1</td>\n",
       "    </tr>\n",
       "    <tr>\n",
       "      <th>26</th>\n",
       "      <td>162</td>\n",
       "      <td>27</td>\n",
       "      <td>1</td>\n",
       "    </tr>\n",
       "    <tr>\n",
       "      <th>27</th>\n",
       "      <td>175</td>\n",
       "      <td>45</td>\n",
       "      <td>1</td>\n",
       "    </tr>\n",
       "    <tr>\n",
       "      <th>28</th>\n",
       "      <td>56</td>\n",
       "      <td>27</td>\n",
       "      <td>0</td>\n",
       "    </tr>\n",
       "    <tr>\n",
       "      <th>29</th>\n",
       "      <td>154</td>\n",
       "      <td>32</td>\n",
       "      <td>1</td>\n",
       "    </tr>\n",
       "    <tr>\n",
       "      <th>30</th>\n",
       "      <td>163</td>\n",
       "      <td>47</td>\n",
       "      <td>1</td>\n",
       "    </tr>\n",
       "    <tr>\n",
       "      <th>31</th>\n",
       "      <td>123</td>\n",
       "      <td>39</td>\n",
       "      <td>1</td>\n",
       "    </tr>\n",
       "    <tr>\n",
       "      <th>32</th>\n",
       "      <td>131</td>\n",
       "      <td>30</td>\n",
       "      <td>1</td>\n",
       "    </tr>\n",
       "    <tr>\n",
       "      <th>33</th>\n",
       "      <td>148</td>\n",
       "      <td>41</td>\n",
       "      <td>1</td>\n",
       "    </tr>\n",
       "    <tr>\n",
       "      <th>34</th>\n",
       "      <td>218</td>\n",
       "      <td>92</td>\n",
       "      <td>0</td>\n",
       "    </tr>\n",
       "    <tr>\n",
       "      <th>35</th>\n",
       "      <td>110</td>\n",
       "      <td>89</td>\n",
       "      <td>0</td>\n",
       "    </tr>\n",
       "    <tr>\n",
       "      <th>36</th>\n",
       "      <td>207</td>\n",
       "      <td>95</td>\n",
       "      <td>0</td>\n",
       "    </tr>\n",
       "    <tr>\n",
       "      <th>37</th>\n",
       "      <td>228</td>\n",
       "      <td>65</td>\n",
       "      <td>0</td>\n",
       "    </tr>\n",
       "    <tr>\n",
       "      <th>38</th>\n",
       "      <td>126</td>\n",
       "      <td>36</td>\n",
       "      <td>1</td>\n",
       "    </tr>\n",
       "    <tr>\n",
       "      <th>39</th>\n",
       "      <td>162</td>\n",
       "      <td>94</td>\n",
       "      <td>0</td>\n",
       "    </tr>\n",
       "  </tbody>\n",
       "</table>\n",
       "</div>"
      ],
      "text/plain": [
       "      e   p  c\n",
       "0   154  11  0\n",
       "1   139  42  1\n",
       "2   178  47  1\n",
       "3   123  22  0\n",
       "4    72  95  0\n",
       "5   153  31  1\n",
       "6   143  30  1\n",
       "7   193  97  0\n",
       "8   158  48  1\n",
       "9   110  51  0\n",
       "10  136  32  1\n",
       "11   82  64  0\n",
       "12  129  39  1\n",
       "13  167  34  1\n",
       "14   61  28  0\n",
       "15  170  47  1\n",
       "16  148  35  1\n",
       "17  178  35  1\n",
       "18  141  25  1\n",
       "19  176  19  0\n",
       "20  130  28  1\n",
       "21  137  31  1\n",
       "22  125  36  1\n",
       "23  137  48  1\n",
       "24  167  82  0\n",
       "25  135  33  1\n",
       "26  162  27  1\n",
       "27  175  45  1\n",
       "28   56  27  0\n",
       "29  154  32  1\n",
       "30  163  47  1\n",
       "31  123  39  1\n",
       "32  131  30  1\n",
       "33  148  41  1\n",
       "34  218  92  0\n",
       "35  110  89  0\n",
       "36  207  95  0\n",
       "37  228  65  0\n",
       "38  126  36  1\n",
       "39  162  94  0"
      ]
     },
     "execution_count": 3,
     "metadata": {},
     "output_type": "execute_result"
    }
   ],
   "source": [
    "my_df = generateCarTypeData(gnPoints=40)\n",
    "my_df"
   ]
  },
  {
   "cell_type": "markdown",
   "metadata": {
    "id": "ZqVS1RK6zeg_"
   },
   "source": [
    "A scatter plot of data points"
   ]
  },
  {
   "cell_type": "code",
   "execution_count": 4,
   "metadata": {
    "colab": {
     "base_uri": "https://localhost:8080/",
     "height": 296
    },
    "id": "Gt79lurRzeg_",
    "outputId": "2871e138-b236-458c-96e0-f31547a4637f"
   },
   "outputs": [
    {
     "data": {
      "text/plain": [
       "<AxesSubplot:xlabel='e', ylabel='p'>"
      ]
     },
     "execution_count": 4,
     "metadata": {},
     "output_type": "execute_result"
    },
    {
     "data": {
      "image/png": "[encoded data removed]",
      "text/plain": [
       "<Figure size 432x288 with 1 Axes>"
      ]
     },
     "metadata": {
      "needs_background": "light"
     },
     "output_type": "display_data"
    }
   ],
   "source": [
    "#plt.scatter(my_df.e, my_df.p, marker='o');\n",
    "sns.scatterplot(x=\"e\", y=\"p\", hue=\"c\", data=my_df, palette=\"colorblind\")"
   ]
  },
  {
   "cell_type": "code",
   "execution_count": 5,
   "metadata": {
    "colab": {
     "base_uri": "https://localhost:8080/"
    },
    "id": "y2J3KTSMzehA",
    "outputId": "fe75d678-5c8c-4a34-b815-6bb87f5b0d2f"
   },
   "outputs": [
    {
     "data": {
      "text/plain": [
       "25"
      ]
     },
     "execution_count": 5,
     "metadata": {},
     "output_type": "execute_result"
    }
   ],
   "source": [
    "# get the min price of a family car from the data set my_df\n",
    "my_df[my_df['c']==1]['p'].min()"
   ]
  },
  {
   "cell_type": "code",
   "execution_count": 6,
   "metadata": {
    "colab": {
     "base_uri": "https://localhost:8080/"
    },
    "id": "qZJhWg2VzehB",
    "outputId": "be0606da-c668-451f-ebf2-ceeb71b55fba"
   },
   "outputs": [
    {
     "name": "stdout",
     "output_type": "stream",
     "text": [
      "25\n"
     ]
    },
    {
     "data": {
      "text/plain": [
       "22"
      ]
     },
     "execution_count": 6,
     "metadata": {},
     "output_type": "execute_result"
    }
   ],
   "source": [
    "# get the max price of a NON-family car that is smaller than minimum price of a family car\n",
    "min_price = my_df[my_df['c']==1]['p'].min()\n",
    "print(min_price)\n",
    "my_df[(my_df['c']==0) & (my_df['p'] < min_price)]['p'].max()"
   ]
  },
  {
   "cell_type": "code",
   "execution_count": 7,
   "metadata": {},
   "outputs": [
    {
     "name": "stdout",
     "output_type": "stream",
     "text": [
      "48\n"
     ]
    },
    {
     "data": {
      "text/plain": [
       "51"
      ]
     },
     "execution_count": 7,
     "metadata": {},
     "output_type": "execute_result"
    }
   ],
   "source": [
    "max_price = my_df[my_df['c']==1]['p'].max()\n",
    "print(max_price)\n",
    "my_df[(my_df['c']== 0) & (my_df['p'] > max_price)]['p'].min()"
   ]
  },
  {
   "cell_type": "code",
   "execution_count": 8,
   "metadata": {},
   "outputs": [
    {
     "name": "stdout",
     "output_type": "stream",
     "text": [
      "48\n"
     ]
    },
    {
     "data": {
      "text/plain": [
       "193"
      ]
     },
     "execution_count": 8,
     "metadata": {},
     "output_type": "execute_result"
    }
   ],
   "source": [
    "max_price_e = my_df[my_df['c']==1]['e'].max()\n",
    "print(max_price)\n",
    "my_df[(my_df['c']== 0) & (my_df['e'] > max_price_e)]['e'].min()"
   ]
  },
  {
   "cell_type": "code",
   "execution_count": 9,
   "metadata": {},
   "outputs": [
    {
     "name": "stdout",
     "output_type": "stream",
     "text": [
      "25\n"
     ]
    },
    {
     "data": {
      "text/plain": [
       "110"
      ]
     },
     "execution_count": 9,
     "metadata": {},
     "output_type": "execute_result"
    }
   ],
   "source": [
    "min_price_e = my_df[my_df['c']==1]['e'].min()\n",
    "print(min_price)\n",
    "my_df[(my_df['c']==0) & (my_df['e'] < min_price_e)]['e'].max()"
   ]
  },
  {
   "cell_type": "code",
   "execution_count": 10,
   "metadata": {
    "id": "a2xmVRfUzehC"
   },
   "outputs": [],
   "source": [
    "# from 2D data, get the range values associated with a family car\n",
    "def getRange_familyCar(gdf):\n",
    "    min_price = gdf[gdf['c']==1]['p'].min()\n",
    "    max_price = gdf[gdf['c']==1]['p'].max()\n",
    "    min_engine = gdf[gdf['c']==1]['e'].min()\n",
    "    max_engine = gdf[gdf['c']==1]['e'].max()\n",
    "    \n",
    "    return min_price, max_price, min_engine, max_engine\n",
    "    "
   ]
  },
  {
   "cell_type": "code",
   "execution_count": 11,
   "metadata": {},
   "outputs": [
    {
     "name": "stdout",
     "output_type": "stream",
     "text": [
      "(25, 48, 123, 178)\n"
     ]
    }
   ],
   "source": [
    "print(getRange_familyCar(my_df))"
   ]
  },
  {
   "cell_type": "markdown",
   "metadata": {
    "id": "UmrA_iuazehC"
   },
   "source": [
    "$\\color{red}{\\text{Question:}}$ Implement a function that returns min/max price/engine power values that define the LARGEST rectangle classifier"
   ]
  },
  {
   "cell_type": "code",
   "execution_count": 12,
   "metadata": {
    "id": "P2prxm85zehC"
   },
   "outputs": [],
   "source": [
    "def getRange_familyCar_large(gdf):\n",
    "    min_price = 0\n",
    "    max_price = 0\n",
    "    min_engine = 0\n",
    "    max_engine = 0\n",
    "    \n",
    "    min_price_p = gdf[gdf['c']==1]['p'].min()\n",
    "    min_price = gdf[(gdf['c']==0) & (gdf['p'] < min_price_p)]['p'].max()\n",
    "    \n",
    "    max_price_p = gdf[gdf['c']==1]['p'].max()\n",
    "    max_price = gdf[(gdf['c']== 0) & (gdf['p'] > max_price_p)]['p'].min()\n",
    "    \n",
    "    max_price_e = gdf[gdf['c']==1]['e'].max()\n",
    "    max_engine = gdf[(gdf['c']== 0) & (gdf['e'] > max_price_e)]['e'].min()\n",
    "    \n",
    "    min_price_e = gdf[gdf['c']==1]['e'].min()\n",
    "    min_engine = gdf[(gdf['c']==0) & (gdf['e'] < min_price_e)]['e'].max()\n",
    "     \n",
    "    \n",
    "    return min_price, max_price, min_engine, max_engine"
   ]
  },
  {
   "cell_type": "code",
   "execution_count": 13,
   "metadata": {},
   "outputs": [
    {
     "name": "stdout",
     "output_type": "stream",
     "text": [
      "(22, 51, 110, 193)\n"
     ]
    }
   ],
   "source": [
    "import numpy as np\n",
    "print(getRange_familyCar_large(my_df))\n"
   ]
  },
  {
   "cell_type": "markdown",
   "metadata": {
    "id": "OYmvbGI8zehD"
   },
   "source": [
    "$\\color{red}{\\text{Question:}}$ Implement a function that returns min/max price/engine power values that define a medium (between smallest and largest) rectangle classifier"
   ]
  },
  {
   "cell_type": "code",
   "execution_count": 14,
   "metadata": {
    "id": "knW22tkwzehD"
   },
   "outputs": [],
   "source": [
    "def getRange_familyCar_medium(gdf):\n",
    "    min_price = 0\n",
    "    max_price = 0\n",
    "    min_engine = 0\n",
    "    max_engine = 0\n",
    "    \n",
    "    min_p_s, max_p_s, min_e_s, max_e_s = getRange_familyCar(my_df)\n",
    "    min_p_l, max_p_l, min_e_l, max_e_s = getRange_familyCar_large(my_df)\n",
    "    \n",
    "    min_price = np.average([min_p_s, min_p_l])\n",
    "    max_price = np.average([max_p_s, max_p_l])\n",
    "    min_engine = np.average([min_e_s, min_e_l])\n",
    "    max_engine = np.average([max_e_s, max_e_s])\n",
    "    \n",
    "    return min_price, max_price, min_engine, max_engine"
   ]
  },
  {
   "cell_type": "code",
   "execution_count": 15,
   "metadata": {
    "colab": {
     "base_uri": "https://localhost:8080/"
    },
    "id": "N6lWEOolzehD",
    "outputId": "c4618701-8af3-495c-ff88-0cd24e7f0b30"
   },
   "outputs": [
    {
     "name": "stdout",
     "output_type": "stream",
     "text": [
      "rectangle 25 48 123 178\n",
      "rectangle 22 51 110 193\n",
      "rectangle 23.5 49.5 116.5 193.0\n"
     ]
    }
   ],
   "source": [
    "min_p, max_p, min_e, max_e = getRange_familyCar(my_df)\n",
    "print(\"rectangle\",min_p, max_p, min_e, max_e)\n",
    "\n",
    "min_p, max_p, min_e, max_e = getRange_familyCar_large(my_df)\n",
    "print(\"rectangle\",min_p, max_p, min_e, max_e)\n",
    "\n",
    "min_p, max_p, min_e, max_e = getRange_familyCar_medium(my_df)\n",
    "print(\"rectangle\",min_p, max_p, min_e, max_e)"
   ]
  },
  {
   "cell_type": "code",
   "execution_count": 16,
   "metadata": {
    "id": "0f44hE1TzehE"
   },
   "outputs": [],
   "source": [
    "def classify_instance_byRectangle(min_price, max_price, min_engine, max_engine, gdf_instance):\n",
    "    if(min_engine<gdf_instance.e<max_engine and min_price<gdf_instance.p<max_price):\n",
    "        return 1\n",
    "    else:\n",
    "        return 0"
   ]
  },
  {
   "cell_type": "code",
   "execution_count": 17,
   "metadata": {
    "colab": {
     "base_uri": "https://localhost:8080/"
    },
    "id": "_9WCgs0mzehE",
    "outputId": "04952b3b-f1f1-4469-d736-27c28d5ae990"
   },
   "outputs": [
    {
     "data": {
      "text/plain": [
       "e    154\n",
       "p     11\n",
       "c      0\n",
       "Name: 0, dtype: int64"
      ]
     },
     "execution_count": 17,
     "metadata": {},
     "output_type": "execute_result"
    }
   ],
   "source": [
    "# first row of the data set\n",
    "my_df.iloc[0]"
   ]
  },
  {
   "cell_type": "code",
   "execution_count": 18,
   "metadata": {
    "colab": {
     "base_uri": "https://localhost:8080/"
    },
    "id": "8BOwtUWxzehE",
    "outputId": "eb8d8ea6-31c2-47b8-de44-33b9505d077f"
   },
   "outputs": [
    {
     "data": {
      "text/plain": [
       "1"
      ]
     },
     "execution_count": 18,
     "metadata": {},
     "output_type": "execute_result"
    }
   ],
   "source": [
    "classify_instance_byRectangle(25, 47, 121, 177, my_df.iloc[1])"
   ]
  },
  {
   "cell_type": "markdown",
   "metadata": {
    "id": "Dvz_tzruzehE"
   },
   "source": [
    "$\\color{red}{\\text{Question:}}$ Implement a function that classifies a given data point using a circle classifier (obtained through data points that encapsulate family cars in the data set)"
   ]
  },
  {
   "cell_type": "code",
   "execution_count": 19,
   "metadata": {
    "id": "ssgkPWzszehF"
   },
   "outputs": [],
   "source": [
    "def classify_instance_byCircle(min_price, max_price, min_engine, max_engine, gdf_instance):\n",
    "    \n",
    "    r_p = np.average([min_price, max_price])\n",
    "    r_e = np.average([min_engine, max_engine])\n",
    "    \n",
    "    r = ( max_price - min_price ) / 2\n",
    "    \n",
    "    r_square = r * r\n",
    "    \n",
    "    instance = (gdf_instance.p - r_p) * (gdf_instance.p - r_p) + (gdf_instance.e - r_e) * (gdf_instance.e - r_e)\n",
    "    \n",
    "    if instance <= r_square:\n",
    "        return 1\n",
    "    else:\n",
    "        return 0"
   ]
  },
  {
   "cell_type": "code",
   "execution_count": 20,
   "metadata": {},
   "outputs": [
    {
     "name": "stdout",
     "output_type": "stream",
     "text": [
      "0\n"
     ]
    }
   ],
   "source": [
    "print(classify_instance_byCircle(25, 47, 121, 177, my_df.iloc[1]))"
   ]
  },
  {
   "cell_type": "markdown",
   "metadata": {
    "id": "CogSbNOwzehF"
   },
   "source": [
    "$\\color{red}{\\text{Question:}}$ Implement a function that classifies a given data point using a ellipsoid classifier (obtained through data points that encapsulate family cars in the data set)"
   ]
  },
  {
   "cell_type": "code",
   "execution_count": 21,
   "metadata": {
    "id": "KHAxYF46zehF"
   },
   "outputs": [],
   "source": [
    "def classify_instance_byEllipsoid(min_price, max_price, min_engine, max_engine, gdf_instance):\n",
    "    r_p = np.average([min_price, max_price])\n",
    "    r_e = np.average([min_engine, max_engine])\n",
    "    a = abs((min_price - max_price)/2)\n",
    "    b = abs((min_engine - max_engine)/2)\n",
    "    instance = (( gdf_instance.p - r_p)**2 /( a**2 ) ) + (( gdf_instance.e-r_e)**2 / ( b**2 ))\n",
    "    if instance <= 1:\n",
    "        return 1\n",
    "    else:\n",
    "        return 0"
   ]
  },
  {
   "cell_type": "code",
   "execution_count": 22,
   "metadata": {},
   "outputs": [
    {
     "name": "stdout",
     "output_type": "stream",
     "text": [
      "0\n"
     ]
    }
   ],
   "source": [
    "print(classify_instance_byEllipsoid(25, 47, 121, 177, my_df.iloc[3]))"
   ]
  },
  {
   "cell_type": "code",
   "execution_count": 23,
   "metadata": {
    "id": "zliZ4Le0zehF"
   },
   "outputs": [],
   "source": [
    "test_df = generateCarTypeData(gnPoints=20) # you might want to try different test set sizes"
   ]
  },
  {
   "cell_type": "code",
   "execution_count": 24,
   "metadata": {
    "colab": {
     "base_uri": "https://localhost:8080/"
    },
    "id": "O9bDFonZzehG",
    "outputId": "4d52d9b4-db97-40fe-b482-8b4ce87a62c2"
   },
   "outputs": [
    {
     "name": "stdout",
     "output_type": "stream",
     "text": [
      "rectangle 25 48 123 178\n",
      "[0 1 1 1 0 0 1 0 1 0 0 1 1 0 0 0 0 1 0 0]\n",
      "[0 1 1 1 0 0 1 0 0 0 0 1 1 0 0 0 0 1 0 0]\n",
      "d_accuracy 0.95\n"
     ]
    }
   ],
   "source": [
    "min_p, max_p, min_e, max_e = getRange_familyCar(my_df)\n",
    "print(\"rectangle\",min_p, max_p, min_e, max_e)\n",
    "\n",
    "test_labels = np.array(test_df.c)\n",
    "test_predict = []\n",
    "for i in range(len(test_df)):\n",
    "    test_predict.append(classify_instance_byRectangle(min_p, max_p, min_e, max_e, test_df.iloc[i]))\n",
    "\n",
    "print(np.array(test_labels))\n",
    "print(np.array(test_predict))\n",
    "# print(test_df)\n",
    "\n",
    "d_accuracy = round(accuracy_score(test_labels, test_predict), 4)\n",
    "print(\"d_accuracy\", d_accuracy)"
   ]
  },
  {
   "cell_type": "markdown",
   "metadata": {
    "id": "FKALsJDYzehG"
   },
   "source": [
    "$\\color{red}{\\text{Question:}}$ What is the classification accuracy when getRange_familyCar_large() function is used for obtaining the boundaries for family cars and classify_instance_byRectangle() function is used for classifying the instances in the test set"
   ]
  },
  {
   "cell_type": "code",
   "execution_count": 25,
   "metadata": {
    "id": "zKJmp7CCzehG"
   },
   "outputs": [
    {
     "name": "stdout",
     "output_type": "stream",
     "text": [
      "rectangle 22 51 110 193\n",
      "[0 1 1 1 0 0 1 0 1 0 0 1 1 0 0 0 0 1 0 0]\n",
      "[0 1 1 1 0 0 1 0 1 0 0 1 1 0 0 0 0 1 0 0]\n",
      "d_accuracy 1.0\n"
     ]
    }
   ],
   "source": [
    "min_p, max_p, min_e, max_e = getRange_familyCar_large(my_df)\n",
    "print(\"rectangle\",min_p, max_p, min_e, max_e)\n",
    "\n",
    "test_labels = np.array(test_df.c)\n",
    "test_predict = []\n",
    "for i in range(len(test_df)):\n",
    "    test_predict.append(classify_instance_byRectangle(min_p, max_p, min_e, max_e, test_df.iloc[i]))\n",
    "\n",
    "print(np.array(test_labels))\n",
    "print(np.array(test_predict))\n",
    "# print(test_df)\n",
    "\n",
    "d_accuracy = round(accuracy_score(test_labels, test_predict), 4)\n",
    "print(\"d_accuracy\", d_accuracy)"
   ]
  },
  {
   "cell_type": "markdown",
   "metadata": {
    "id": "hEIvhtnUzehG"
   },
   "source": [
    "$\\color{red}{\\text{Question:}}$ What is the classification accuracy when getRange_familyCar_medium() function is used for obtaining the boundaries for family cars and classify_instance_byRectangle() function is used for classifying the instances in the test set"
   ]
  },
  {
   "cell_type": "code",
   "execution_count": 26,
   "metadata": {
    "id": "AbeRdmKUzehG"
   },
   "outputs": [
    {
     "name": "stdout",
     "output_type": "stream",
     "text": [
      "rectangle 23.5 49.5 116.5 193.0\n",
      "[0 1 1 1 0 0 1 0 1 0 0 1 1 0 0 0 0 1 0 0]\n",
      "[0 1 1 1 0 0 1 0 1 0 0 1 1 0 0 0 0 1 0 0]\n",
      "d_accuracy 1.0\n"
     ]
    }
   ],
   "source": [
    "min_p, max_p, min_e, max_e = getRange_familyCar_medium(my_df)\n",
    "print(\"rectangle\",min_p, max_p, min_e, max_e)\n",
    "\n",
    "test_labels = np.array(test_df.c)\n",
    "test_predict = []\n",
    "for i in range(len(test_df)):\n",
    "    test_predict.append(classify_instance_byRectangle(min_p, max_p, min_e, max_e, test_df.iloc[i]))\n",
    "\n",
    "print(np.array(test_labels))\n",
    "print(np.array(test_predict))\n",
    "# print(test_df)\n",
    "\n",
    "d_accuracy = round(accuracy_score(test_labels, test_predict), 4)\n",
    "print(\"d_accuracy\", d_accuracy)"
   ]
  },
  {
   "cell_type": "markdown",
   "metadata": {
    "id": "5Vx7OFwbzehG"
   },
   "source": [
    "$\\color{red}{\\text{Question:}}$ What is the classification accuracy when getRange_familyCar_medium() function is used for obtaining the boundaries for family cars and classify_instance_byCircle() function is used for classifying the instances in the test set"
   ]
  },
  {
   "cell_type": "code",
   "execution_count": 27,
   "metadata": {
    "id": "SPl9_kdMzehG"
   },
   "outputs": [
    {
     "name": "stdout",
     "output_type": "stream",
     "text": [
      "rectangle 23.5 49.5 116.5 193.0\n",
      "[0 1 1 1 0 0 1 0 1 0 0 1 1 0 0 0 0 1 0 0]\n",
      "[0 1 0 1 0 0 0 0 0 0 0 0 1 0 0 0 0 1 0 0]\n",
      "d_accuracy 0.8\n"
     ]
    }
   ],
   "source": [
    "min_p, max_p, min_e, max_e = getRange_familyCar_medium(my_df)\n",
    "print(\"rectangle\",min_p, max_p, min_e, max_e)\n",
    "\n",
    "test_labels = np.array(test_df.c)\n",
    "test_predict = []\n",
    "for i in range(len(test_df)):\n",
    "    test_predict.append(classify_instance_byCircle(min_p, max_p, min_e, max_e, test_df.iloc[i]))\n",
    "\n",
    "print(np.array(test_labels))\n",
    "print(np.array(test_predict))\n",
    "# print(test_df)\n",
    "\n",
    "d_accuracy = round(accuracy_score(test_labels, test_predict), 4)\n",
    "print(\"d_accuracy\", d_accuracy)"
   ]
  },
  {
   "cell_type": "markdown",
   "metadata": {
    "id": "hHdIVKL4zehH"
   },
   "source": [
    "$\\color{red}{\\text{Question:}}$ What is the classification accuracy when getRange_familyCar_medium() function is used for obtaining the boundaries for family cars and classify_instance_byEllipsoid() function is used for classifying the instances in the test set"
   ]
  },
  {
   "cell_type": "code",
   "execution_count": 28,
   "metadata": {
    "id": "X9oUNHSEzehH"
   },
   "outputs": [
    {
     "name": "stdout",
     "output_type": "stream",
     "text": [
      "rectangle 23.5 49.5 116.5 193.0\n",
      "[0 1 1 1 0 0 1 0 1 0 0 1 1 0 0 0 0 1 0 0]\n",
      "[0 1 0 1 0 0 1 0 0 0 0 0 1 0 0 0 0 1 0 0]\n",
      "d_accuracy 0.85\n"
     ]
    }
   ],
   "source": [
    "min_p, max_p, min_e, max_e = getRange_familyCar_medium(my_df)\n",
    "print(\"rectangle\",min_p, max_p, min_e, max_e)\n",
    "\n",
    "test_labels = np.array(test_df.c)\n",
    "test_predict = []\n",
    "for i in range(len(test_df)):\n",
    "    test_predict.append(classify_instance_byEllipsoid(min_p, max_p, min_e, max_e, test_df.iloc[i]))\n",
    "\n",
    "print(np.array(test_labels))\n",
    "print(np.array(test_predict))\n",
    "# print(test_df)\n",
    "\n",
    "d_accuracy = round(accuracy_score(test_labels, test_predict), 4)\n",
    "print(\"d_accuracy\", d_accuracy)"
   ]
  },
  {
   "cell_type": "markdown",
   "metadata": {
    "id": "IpGMaKamzehH"
   },
   "source": [
    "### Regression"
   ]
  },
  {
   "cell_type": "markdown",
   "metadata": {
    "id": "uBVXkaiRzjk5"
   },
   "source": [
    "![regression.PNG](data:image/png;base64,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)"
   ]
  },
  {
   "cell_type": "markdown",
   "metadata": {
    "id": "Pmdu0YtizehH"
   },
   "source": [
    "$\\color{red}{\\text{Question:}}$ Given a set of actual labels (gLabels) and predicted labels (gPredictedLabels), implement a function that returns RMSE"
   ]
  },
  {
   "cell_type": "code",
   "execution_count": 29,
   "metadata": {
    "id": "EbAO3jDqzehH"
   },
   "outputs": [],
   "source": [
    "def getRMSE(glabels, gPredictedLabels):\n",
    "    error = [(x-y)**2 for x,y in zip(glabels, gPredictedLabels)]\n",
    "    RMSE = math.sqrt(sum(error)/len(glabels))    \n",
    "    return RMSE"
   ]
  },
  {
   "cell_type": "markdown",
   "metadata": {
    "id": "hYShtHRpzehH"
   },
   "source": [
    "A function that generates data points according to the equation (r = mx + b + noise) where m=2.25, b = 6, and noise$\\sim N(0,1.21)$"
   ]
  },
  {
   "cell_type": "code",
   "execution_count": 30,
   "metadata": {
    "colab": {
     "base_uri": "https://localhost:8080/",
     "height": 268
    },
    "id": "ZUE4iULizehH",
    "outputId": "fe23cd66-7b08-4ac1-800e-e9b8ee92414f"
   },
   "outputs": [
    {
     "data": {
      "image/png": "[encoded data removed]",
      "text/plain": [
       "<Figure size 432x288 with 1 Axes>"
      ]
     },
     "metadata": {
      "needs_background": "light"
     },
     "output_type": "display_data"
    }
   ],
   "source": [
    "n_points = 50\n",
    "\n",
    "b = 6 # intercept\n",
    "m = 2.25 # slope\n",
    "noise_mean = 0.0\n",
    "noise_var = 1.21\n",
    "\n",
    "X = []\n",
    "r = []\n",
    "for i in range(n_points):\n",
    "    #rnd_num = random.random()\n",
    "    rnd_num = np.random.uniform(-2, 2)\n",
    "    X.append(rnd_num)\n",
    "    r.append(b + m*rnd_num + np.random.normal(loc=noise_mean, scale=noise_var))\n",
    "    #r.append(b + m *rnd_num)\n",
    "\n",
    "plt.scatter(X, r, marker='o');"
   ]
  },
  {
   "cell_type": "code",
   "execution_count": 31,
   "metadata": {},
   "outputs": [
    {
     "name": "stdout",
     "output_type": "stream",
     "text": [
      "50 50\n"
     ]
    }
   ],
   "source": [
    "print(len(X), \n",
    "len(r))"
   ]
  },
  {
   "cell_type": "markdown",
   "metadata": {
    "id": "K5hPlZ4RzehI"
   },
   "source": [
    "$\\color{red}{\\text{Question:}}$ Calculate $w_0$ and $w_1$ values in linear regression equation $r = w_0+w_1*x$ based on the closed form expressions."
   ]
  },
  {
   "cell_type": "code",
   "execution_count": 32,
   "metadata": {
    "id": "fd9VYMRozehI"
   },
   "outputs": [],
   "source": [
    "def cal_coefficents(x,r,n):\n",
    "    sigma_num = [x*r for x,r in zip(x,r)]\n",
    "    sigma_deno = [x*x for x,r in zip(x,x)]\n",
    "    num = sum(sigma_num) - np.mean(x)*np.mean(r) * n\n",
    "    deno =sum(sigma_deno) - n*np.mean(x)**2\n",
    "    w_1 = num / deno\n",
    "    w_0 = np.mean(r) - w_1 * np.mean(x)   \n",
    "    return w_1, w_0\n"
   ]
  },
  {
   "cell_type": "code",
   "execution_count": 33,
   "metadata": {},
   "outputs": [
    {
     "name": "stdout",
     "output_type": "stream",
     "text": [
      "(2.4324543610576077, 5.807883034926797)\n"
     ]
    }
   ],
   "source": [
    "print(cal_coefficents(X,r,len(X)))"
   ]
  },
  {
   "cell_type": "markdown",
   "metadata": {
    "id": "4W7WFTlTzehI"
   },
   "source": [
    "$\\color{red}{\\text{Question:}}$ Report the error with the calculated w_1 and w_0.\n",
    "\n",
    "Hint: Use getRMSE() function that you have implemented"
   ]
  },
  {
   "cell_type": "code",
   "execution_count": 34,
   "metadata": {
    "id": "eVRlya6OzehI"
   },
   "outputs": [],
   "source": [
    "# Report the error with the calculated w_1 and w_0\n",
    "w1, w0 = cal_coefficents(X,r, len(X))\n",
    "y_pred = []\n",
    "for x in X:\n",
    "    y_pred.append(w1*x + w0)"
   ]
  },
  {
   "cell_type": "code",
   "execution_count": 35,
   "metadata": {},
   "outputs": [
    {
     "data": {
      "text/plain": [
       "1.1664712418690881"
      ]
     },
     "execution_count": 35,
     "metadata": {},
     "output_type": "execute_result"
    }
   ],
   "source": [
    "RMSE = getRMSE(r, y_pred)\n",
    "RMSE"
   ]
  },
  {
   "cell_type": "markdown",
   "metadata": {
    "id": "yelPxdyTzehI"
   },
   "source": [
    "$\\color{red}{\\text{Question:}}$ Plot the data points along with the fitted line.\n",
    "\n",
    "Hint: Use mathplotlib library's plot function"
   ]
  },
  {
   "cell_type": "code",
   "execution_count": 36,
   "metadata": {
    "id": "VhxdJlrYzehI"
   },
   "outputs": [
    {
     "data": {
      "text/plain": [
       "[<matplotlib.lines.Line2D at 0x1fbe6a53640>]"
      ]
     },
     "execution_count": 36,
     "metadata": {},
     "output_type": "execute_result"
    },
    {
     "data": {
      "image/png": "[encoded data removed]",
      "text/plain": [
       "<Figure size 432x288 with 1 Axes>"
      ]
     },
     "metadata": {
      "needs_background": "light"
     },
     "output_type": "display_data"
    }
   ],
   "source": [
    "# Plot the data points along with the fitted line\n",
    "plt.scatter(X, r, marker='o')\n",
    "plt.plot(X, y_pred)"
   ]
  },
  {
   "cell_type": "markdown",
   "metadata": {
    "id": "vVnC0uwizehI"
   },
   "source": [
    "using library functions for linear regression"
   ]
  },
  {
   "cell_type": "code",
   "execution_count": 37,
   "metadata": {
    "colab": {
     "base_uri": "https://localhost:8080/"
    },
    "id": "ZcnthGUozehI",
    "outputId": "88b251bd-06ca-4f95-cd9c-e530abbcee3f"
   },
   "outputs": [
    {
     "name": "stdout",
     "output_type": "stream",
     "text": [
      "Intercept: \n",
      " [5.80788303]\n",
      "Coefficients: \n",
      " [[2.43245436]]\n",
      "RMSE 1.1664712418690881\n"
     ]
    }
   ],
   "source": [
    "xx = np.array(X)\n",
    "rr = np.array(r)\n",
    "\n",
    "# transforming the data to include another axis\n",
    "xx = xx[:, np.newaxis]\n",
    "rr = rr[:, np.newaxis]\n",
    "\n",
    "# sklearn linear regression function\n",
    "model = LinearRegression()\n",
    "model.fit(xx, rr)\n",
    "r_pred = model.predict(xx)\n",
    "\n",
    "# The coefficients + Intercept\n",
    "print('Intercept: \\n', model.intercept_)\n",
    "print('Coefficients: \\n', model.coef_)\n",
    "\n",
    "RMSE = getRMSE(rr, r_pred)\n",
    "print(\"RMSE\",RMSE)\n",
    "\n",
    "# insert codes for plotting the fitted function"
   ]
  },
  {
   "cell_type": "markdown",
   "metadata": {
    "id": "osXEUU10zehJ"
   },
   "source": [
    "using library functions for polynomial regression"
   ]
  },
  {
   "cell_type": "code",
   "execution_count": 38,
   "metadata": {
    "id": "JUE53PsazehJ"
   },
   "outputs": [],
   "source": [
    "import operator\n",
    "from sklearn.preprocessing import PolynomialFeatures\n",
    "\n",
    "def polyFit(gxx, grr, gnDegree):\n",
    "\n",
    "    polynomial_features= PolynomialFeatures(degree=gnDegree)\n",
    "    x_poly = polynomial_features.fit_transform(gxx)\n",
    "\n",
    "    model = LinearRegression()\n",
    "    model.fit(x_poly, grr)\n",
    "    r_poly_pred = model.predict(x_poly)\n",
    "\n",
    "    # The coefficients + Intercept\n",
    "    print('Intercept: \\n', model.intercept_)\n",
    "    print('Coefficients: \\n', model.coef_)\n",
    "    \n",
    "    #RMSE = getRMSE(gxx, grr, r_poly_pred)\n",
    "    #print('RMSE',RMSE)\n",
    "\n",
    "    plt.scatter(gxx, grr, s=10)\n",
    "\n",
    "    # sort the values of x before line plot\n",
    "    sort_axis = operator.itemgetter(0)\n",
    "    sorted_zip = sorted(zip(gxx,r_poly_pred), key=sort_axis)\n",
    "    gxx, r_poly_pred = zip(*sorted_zip)\n",
    "    plt.plot(gxx, r_poly_pred, color='m')\n",
    "    plt.show()\n",
    "    \n",
    "    return model.intercept_, model.coef_"
   ]
  },
  {
   "cell_type": "code",
   "execution_count": 39,
   "metadata": {
    "colab": {
     "base_uri": "https://localhost:8080/",
     "height": 355
    },
    "id": "TKh0Ym48zehJ",
    "outputId": "9767f966-b127-4fad-981d-f45846888060"
   },
   "outputs": [
    {
     "name": "stdout",
     "output_type": "stream",
     "text": [
      "Intercept: \n",
      " [5.78676552]\n",
      "Coefficients: \n",
      " [[0.         2.42897048 0.01527005]]\n"
     ]
    },
    {
     "data": {
      "image/png": "[encoded data removed]",
      "text/plain": [
       "<Figure size 432x288 with 1 Axes>"
      ]
     },
     "metadata": {
      "needs_background": "light"
     },
     "output_type": "display_data"
    },
    {
     "data": {
      "text/plain": [
       "(array([5.78676552]), array([[0.        , 2.42897048, 0.01527005]]))"
      ]
     },
     "execution_count": 39,
     "metadata": {},
     "output_type": "execute_result"
    }
   ],
   "source": [
    "xx = np.array(X)\n",
    "rr = np.array(r)\n",
    "\n",
    "# transforming the data to include another axis\n",
    "xx = xx[:, np.newaxis]\n",
    "rr = rr[:, np.newaxis]\n",
    "\n",
    "polyFit(xx, rr, gnDegree=2)"
   ]
  },
  {
   "cell_type": "code",
   "execution_count": 40,
   "metadata": {
    "colab": {
     "base_uri": "https://localhost:8080/",
     "height": 372
    },
    "id": "n6pUxsEzzehJ",
    "outputId": "038223fc-6c67-441a-f1b0-eee6feae9547"
   },
   "outputs": [
    {
     "name": "stdout",
     "output_type": "stream",
     "text": [
      "Intercept: \n",
      " [5.71300149]\n",
      "Coefficients: \n",
      " [[0.         1.87778131 0.00350517 0.2228806 ]]\n"
     ]
    },
    {
     "data": {
      "image/png": "[encoded data removed]",
      "text/plain": [
       "<Figure size 432x288 with 1 Axes>"
      ]
     },
     "metadata": {
      "needs_background": "light"
     },
     "output_type": "display_data"
    },
    {
     "data": {
      "text/plain": [
       "(array([5.71300149]),\n",
       " array([[0.        , 1.87778131, 0.00350517, 0.2228806 ]]))"
      ]
     },
     "execution_count": 40,
     "metadata": {},
     "output_type": "execute_result"
    }
   ],
   "source": [
    "polyFit(xx, rr, gnDegree=3)"
   ]
  },
  {
   "cell_type": "code",
   "execution_count": 41,
   "metadata": {
    "colab": {
     "base_uri": "https://localhost:8080/",
     "height": 407
    },
    "id": "CUQeTO6OzehJ",
    "outputId": "2c0f64d2-5c21-436c-8676-07860a048b48"
   },
   "outputs": [
    {
     "name": "stdout",
     "output_type": "stream",
     "text": [
      "Intercept: \n",
      " [6.00568602]\n",
      "Coefficients: \n",
      " [[ 0.          1.80786318 -1.67795461  0.15303373  1.25371903  0.03311211\n",
      "  -0.23117741]]\n"
     ]
    },
    {
     "data": {
      "image/png": "[encoded data removed]",
      "text/plain": [
       "<Figure size 432x288 with 1 Axes>"
      ]
     },
     "metadata": {
      "needs_background": "light"
     },
     "output_type": "display_data"
    },
    {
     "data": {
      "text/plain": [
       "(array([6.00568602]),\n",
       " array([[ 0.        ,  1.80786318, -1.67795461,  0.15303373,  1.25371903,\n",
       "          0.03311211, -0.23117741]]))"
      ]
     },
     "execution_count": 41,
     "metadata": {},
     "output_type": "execute_result"
    }
   ],
   "source": [
    "polyFit(xx, rr, gnDegree=6)"
   ]
  }
 ],
 "metadata": {
  "@webio": {
   "lastCommId": null,
   "lastKernelId": null
  },
  "colab": {
   "name": "AIDI_1002_Week_4_Lecture_Lab.ipynb",
   "provenance": []
  },
  "kernelspec": {
   "display_name": "Python 3 (ipykernel)",
   "language": "python",
   "name": "python3"
  },
  "language_info": {
   "codemirror_mode": {
    "name": "ipython",
    "version": 3
   },
   "file_extension": ".py",
   "mimetype": "text/x-python",
   "name": "python",
   "nbconvert_exporter": "python",
   "pygments_lexer": "ipython3",
   "version": "3.9.13"
  }
 },
 "nbformat": 4,
 "nbformat_minor": 1
}
